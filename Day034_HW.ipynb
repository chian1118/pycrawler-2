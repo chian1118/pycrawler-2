{
 "cells": [
  {
   "cell_type": "markdown",
   "metadata": {
    "colab_type": "text",
    "id": "I8CoX4R7VoCd"
   },
   "source": [
    "# 反爬：代理伺服器/IP\n",
    "\n",
    "* 了解「IP 黑/白名單」的反爬蟲機制\n",
    "* 「IP 黑/白名單」反爬蟲的因應策略"
   ]
  },
  {
   "cell_type": "markdown",
   "metadata": {
    "colab_type": "text",
    "id": "n-3DZ_r5VoCe"
   },
   "source": [
    "## 作業目標\n",
    "\n",
    "* 目前程式中的 proxy_ips 是手動輸入的，請根據 https://free-proxy-list.net/ 寫一個可自動化抓取可用 Proxy 的 proxy_ips。\n",
    "\n",
    "\n"
   ]
  },
  {
   "cell_type": "code",
   "execution_count": 1,
   "metadata": {
    "colab": {},
    "colab_type": "code",
    "id": "iny-9heBVoCf"
   },
   "outputs": [],
   "source": [
    "import requests\n",
    "import random\n",
    "from bs4 import BeautifulSoup\n",
    "\n",
    "proxy_ips = []\n",
    "\n",
    "res = requests.get('https://free-proxy-list.net/')\n",
    "if res.status_code == 200:\n",
    "    soup = BeautifulSoup(res.text, 'lxml')\n",
    "    for row in soup.find('tbody').find_all('tr'):\n",
    "        IP_Information = row.find_all('td')\n",
    "        proxy_ips.append(\"%s:%s\" % (IP_Information[0].text, IP_Information[1].text))"
   ]
  },
  {
   "cell_type": "code",
   "execution_count": 2,
   "metadata": {
    "colab": {},
    "colab_type": "code",
    "id": "75dIsHjiVoCi"
   },
   "outputs": [
    {
     "name": "stdout",
     "output_type": "stream",
     "text": [
      "Use 201.59.201.92:32721\n",
      "Fail\n",
      "Use 95.143.8.182:57169\n",
      "Fail\n",
      "Use 139.59.62.255:3128\n",
      "Your IP address: 139.59.62.255\n",
      "Use 103.86.155.78:52554\n",
      "Fail\n",
      "Use 103.216.82.37:6666\n",
      "Fail\n",
      "Use 191.8.80.142:8080\n",
      "Fail\n",
      "Use 194.213.43.166:38170\n",
      "Fail\n",
      "Use 192.41.19.53:3128\n",
      "Your IP address: 192.41.19.53\n",
      "Use 164.77.147.93:53281\n",
      "Fail\n",
      "Use 144.91.116.171:443\n",
      "Your IP address: 144.91.116.171\n"
     ]
    }
   ],
   "source": [
    "for i in range(10):\n",
    "    ip = random.choice(proxy_ips)\n",
    "    print('Use', ip)\n",
    "    try:\n",
    "        resp = requests.get('http://ip.filefab.com/index.php',\n",
    "                        proxies={'http': ip, 'https': ip}, timeout=10)\n",
    "        soup = BeautifulSoup(resp.text, 'html5lib')\n",
    "        print(soup.find('h1', id='ipd').text.strip())\n",
    "    except:\n",
    "        print('Fail')"
   ]
  },
  {
   "cell_type": "code",
   "execution_count": null,
   "metadata": {},
   "outputs": [],
   "source": []
  }
 ],
 "metadata": {
  "colab": {
   "name": "homework.ipynb",
   "provenance": []
  },
  "kernelspec": {
   "display_name": "Python 3",
   "language": "python",
   "name": "python3"
  },
  "language_info": {
   "codemirror_mode": {
    "name": "ipython",
    "version": 3
   },
   "file_extension": ".py",
   "mimetype": "text/x-python",
   "name": "python",
   "nbconvert_exporter": "python",
   "pygments_lexer": "ipython3",
   "version": "3.7.4"
  }
 },
 "nbformat": 4,
 "nbformat_minor": 1
}
