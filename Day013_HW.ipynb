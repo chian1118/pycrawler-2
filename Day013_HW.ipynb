{
 "cells": [
  {
   "cell_type": "markdown",
   "metadata": {},
   "source": [
    "# PTT 網路爬蟲實作練習\n",
    "\n",
    "\n",
    "* 能夠利用 Request + BeatifulSour 撰寫爬蟲，並存放到合適的資料結構\n"
   ]
  },
  {
   "cell_type": "markdown",
   "metadata": {},
   "source": [
    "## 作業目標\n",
    "\n",
    "根據範例 ，完成以下問題：\n",
    "\n",
    "* ① 印出最新文章的「作者」「標題」「時間」\n",
    "* ② 印出第一頁所有文章的「作者」「標題」「時間」\n"
   ]
  },
  {
   "cell_type": "markdown",
   "metadata": {},
   "source": [
    "### ② 印出第一頁所有文章的「作者」「標題」「時間」"
   ]
  },
  {
   "cell_type": "markdown",
   "metadata": {},
   "source": [
    "### ① 印出最新文章的「作者」「標題」「時間」"
   ]
  },
  {
   "cell_type": "code",
   "execution_count": 60,
   "metadata": {},
   "outputs": [
    {
     "name": "stdout",
     "output_type": "stream",
     "text": [
      "標題: [情報] Perkins支持LBJ MVP：他是在西區打出表現\n",
      "作者: Yui5\n",
      "時間:  3/10\n",
      "====================================\n",
      "標題: [新聞] 湯瑪斯與克勞佛待價而沽 安吉點出現實殘\n",
      "作者: Yui5\n",
      "時間:  3/10\n",
      "====================================\n",
      "標題: [公告] 板規v6.8\n",
      "作者: Vedan\n",
      "時間:  5/24\n",
      "====================================\n",
      "標題: [公告] 版主上任相關事項 \n",
      "作者: qazwsx879345\n",
      "時間: 10/25\n",
      "====================================\n",
      "標題: [情報] SEASON Schedule 賽程 March 19–20\n",
      "作者: Acetoxy\n",
      "時間:  3/02\n",
      "====================================\n",
      "標題: Fw: [公告] 即日起開放 NTU 信箱註冊帳號\n",
      "作者: Vedan\n",
      "時間:  3/04\n",
      "====================================\n",
      "標題: [公告] 第一次被退文，可在三天後刪除退文\n",
      "作者: Vedan\n",
      "時間:  3/09\n",
      "====================================\n"
     ]
    }
   ],
   "source": [
    "'''\n",
    "Your Code\n",
    "'''\n",
    "import requests\n",
    "import pandas as pd\n",
    "from bs4 import BeautifulSoup\n",
    "\n",
    "url = 'https://www.ptt.cc/bbs/NBA/index.html'\n",
    "res = requests.get(url)\n",
    "soup = BeautifulSoup(res.text, 'lxml')\n",
    "\n",
    "for ele in soup.select('.r-ent'):\n",
    "    try:\n",
    "        print ('標題:', ele.find('a').text)\n",
    "        print ('作者:', ele.find(class_='author').text)\n",
    "        print ('時間:', ele.find(class_='date').text)\n",
    "    except:\n",
    "        print ('No Url Link')\n",
    "    print ('====================================')"
   ]
  },
  {
   "cell_type": "code",
   "execution_count": 61,
   "metadata": {},
   "outputs": [
    {
     "name": "stdout",
     "output_type": "stream",
     "text": [
      "No url link\n"
     ]
    },
    {
     "data": {
      "text/plain": [
       "作者                   Yui5 (唯控)\n",
       "標題    [新聞] 湯瑪斯與克勞佛待價而沽 安吉點出現實殘\n",
       "時間         2020-03-10 20:01:34\n",
       "Name: 1, dtype: object"
      ]
     },
     "execution_count": 61,
     "metadata": {},
     "output_type": "execute_result"
    }
   ],
   "source": [
    "'''\n",
    "Your Code\n",
    "'''\n",
    "data = []\n",
    "\n",
    "for ele in soup.select('.r-ent'):\n",
    "    try:\n",
    "        temp = {}\n",
    "        url = \"https://www.ptt.cc\" + ele.find('a')['href']\n",
    "        res = requests.get(url)\n",
    "        soup = BeautifulSoup(res.text, 'lxml')\n",
    "        for ele in soup.select('.article-metaline'):\n",
    "            temp[ele.select('.article-meta-tag')[0].text] = ele.select('.article-meta-value')[0].text\n",
    "        temp['時間'] = datetime.strptime(temp['時間'], '%a %b %d %H:%M:%S %Y')\n",
    "        data.append(temp)\n",
    "    except:\n",
    "        print ('No url link')\n",
    "        \n",
    "df = pd.DataFrame(data)\n",
    "df.sort_values(by=['時間'], ascending=False).iloc[0, :]"
   ]
  },
  {
   "cell_type": "markdown",
   "metadata": {},
   "source": [
    "### ③ 試著爬爬看其他版的文章"
   ]
  },
  {
   "cell_type": "code",
   "execution_count": 62,
   "metadata": {},
   "outputs": [
    {
     "name": "stdout",
     "output_type": "stream",
     "text": [
      "標題: [公主]14歲的鏡華\n",
      "作者: KParmy\n",
      "時間:  3/10\n",
      "====================================\n",
      "標題: [閒聊] 食物語\n",
      "作者: kkkeee\n",
      "時間:  3/10\n",
      "====================================\n",
      "標題: Re: [問題] 當漫畫原作如何起步?\n",
      "作者: username123\n",
      "時間:  3/10\n",
      "====================================\n",
      "標題: [閒聊] 輝夜主角改成石上會怎麼演?\n",
      "作者: tw689\n",
      "時間:  3/10\n",
      "====================================\n",
      "標題: [閒聊] 會認真聽音Game歌曲(用了什效果音)嗎?\n",
      "作者: wel0789321\n",
      "時間:  3/10\n",
      "====================================\n",
      "標題: [問題] 你敢吃中華一番哪些廚師作的河豚生魚片?\n",
      "作者: openbestbook\n",
      "時間:  3/10\n",
      "====================================\n",
      "標題: Re: [問題] 天鳳，雀姬，雀魂機率問題\n",
      "作者: qiaffvvf\n",
      "時間:  3/10\n",
      "====================================\n",
      "No Url Link\n",
      "====================================\n",
      "標題: [閒聊] 食物語\n",
      "作者: jeff235711\n",
      "時間:  3/10\n",
      "====================================\n",
      "標題: [棒球] 達比修有手遊「小課」20萬終於入手自己\n",
      "作者: SuperSg\n",
      "時間:  3/10\n",
      "====================================\n",
      "標題: [閒聊] 三蘿掀裙\n",
      "作者: wingkauzy\n",
      "時間:  3/10\n",
      "====================================\n",
      "標題: [輝夜] ＝LOVE 野口衣織：我超級喜歡石上學弟\n",
      "作者: LABOYS\n",
      "時間:  3/10\n",
      "====================================\n",
      "標題: [閒聊] 如果神推飄姊 煞到的是腐亂臭眾的純子\n",
      "作者: kopune\n",
      "時間:  3/10\n",
      "====================================\n",
      "標題: [閒聊] 卡牌店的生態很難融入\n",
      "作者: jerrysun1107\n",
      "時間:  3/10\n",
      "====================================\n",
      "標題: [公告] C_Chat板板規v.16.3.0+板務建議+好文補M \n",
      "作者: jschenlemn\n",
      "時間:  9/14\n",
      "====================================\n",
      "標題: [公告] 看板活動& 臨時板規與公告彙整& 閒聊區 \n",
      "作者: jschenlemn\n",
      "時間: 12/16\n",
      "====================================\n",
      "標題: [20冬] 冬番各作品首播時間\n",
      "作者: SaberTheBest\n",
      "時間: 12/12\n",
      "====================================\n",
      "標題: [公告] 愛奇藝無法可管...討論串注意事項 \n",
      "作者: jschenlemn\n",
      "時間:  3/10\n",
      "====================================\n"
     ]
    }
   ],
   "source": [
    "'''\n",
    "Your Code\n",
    "'''\n",
    "\n",
    "url = 'https://www.ptt.cc/bbs/C_Chat/index.html'\n",
    "res = requests.get(url)\n",
    "soup = BeautifulSoup(res.text, 'lxml')\n",
    "for ele in soup.select('.r-ent'):\n",
    "    try:\n",
    "        print ('標題:', ele.find('a').text)\n",
    "        print ('作者:', ele.find(class_='author').text)\n",
    "        print ('時間:', ele.find(class_='date').text)\n",
    "    except:\n",
    "        print ('No Url Link')\n",
    "    print ('====================================')"
   ]
  },
  {
   "cell_type": "code",
   "execution_count": null,
   "metadata": {},
   "outputs": [],
   "source": []
  }
 ],
 "metadata": {
  "kernelspec": {
   "display_name": "Python 3",
   "language": "python",
   "name": "python3"
  },
  "language_info": {
   "codemirror_mode": {
    "name": "ipython",
    "version": 3
   },
   "file_extension": ".py",
   "mimetype": "text/x-python",
   "name": "python",
   "nbconvert_exporter": "python",
   "pygments_lexer": "ipython3",
   "version": "3.7.4"
  }
 },
 "nbformat": 4,
 "nbformat_minor": 4
}
