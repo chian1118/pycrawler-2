{
 "cells": [
  {
   "cell_type": "markdown",
   "metadata": {},
   "source": [
    "# HTTP 動態網頁架構說明\n",
    "\n",
    "\n",
    "* 了解動態網頁的資料爬蟲策略\n",
    "* 知道非同步網頁載入機制（Ajax）\n",
    "* 學習兩種對應動態網頁爬蟲的的策略\n"
   ]
  },
  {
   "cell_type": "markdown",
   "metadata": {},
   "source": [
    "## 作業目標\n",
    "\n",
    "回答以下問題：\n",
    "\n",
    "1. 動態網頁跟靜態網頁的差別是什麼？原本靜態網頁的做法會產生什麼問題或是缺點？\n",
    "2. 還記得我們在 ETTODAY 靜態爬蟲實作練習中，有請大家完成一個題目「取出今天所有的發文」，但仔細看其實並沒有真的把當天所有的新聞都抓回來， 試著回答看看原因是什麼？及該如何檢查？\n"
   ]
  },
  {
   "cell_type": "markdown",
   "metadata": {},
   "source": [
    "### 1. 動態網頁跟靜態網頁的差別是什麼？原本靜態網頁的做法會產生什麼問題或是缺點？"
   ]
  },
  {
   "cell_type": "markdown",
   "metadata": {},
   "source": [
    "<b> ANS：</b>\n",
    "## 動態網頁跟靜態網頁的差別是什麼？\n",
    "    (1)網頁製作使用的製作語言：\n",
    "    * 靜態網頁使用語言：超文本標記語言（標準通用標記語言的一個應用）\n",
    "    * 動態網頁使用語言：超文本標記語言+ASP或超文本標記語言+PHP或超文本標記語言+JSP等。\n",
    "\n",
    "    (2)、程式是否在伺服器端運行，是重要標誌。</br>\n",
    "    * 在伺服器端運行的程式、網頁、組件，屬於動態網頁，它們會隨不同客戶、不同時間，返回不同的網頁， ASP、PHP、JSP、ASPnet、CGI等。\n",
    "    * 運行於客戶端的程式、網頁、插件、組件，屬於靜態網頁，例如 html 頁、Flash、JavaScript、VBScript等等，它們是永遠不變的。\n",
    "    \n",
    "## 原本靜態網頁的做法會產生什麼問題或是缺點？\n",
    "\n",
    "    * 內容是固定的，交互性差，內容更新維護複雜。\n",
    "    * 沒有自動化的工具，維護大量的靜態頁面文件是不現實的。\n",
    "    * 無法充分支持用戶/客戶的需求（外觀選擇，瀏覽器的支持，Cookie）。\n"
   ]
  },
  {
   "cell_type": "markdown",
   "metadata": {},
   "source": [
    "### 2. 還記得我們在 ETTODAY 靜態爬蟲實作練習中，有請大家完成一個題目「取出今天所有的發文」，但仔細看其實並沒有真的把當天所有的新聞都抓回來， 試著回答看看原因是什麼？及該如何檢查？"
   ]
  },
  {
   "cell_type": "markdown",
   "metadata": {},
   "source": [
    "<b> ANS： </b>\n",
    "\n",
    "1. 因為是動態網頁，資料在滑鼠向下滾動的時候，才會不斷的加載\n",
    "2. 利用Quick Javascript Switcher來確定是否有使用ajax的網頁,或者利用開發人員工具檢查原始網頁程式碼。"
   ]
  },
  {
   "cell_type": "code",
   "execution_count": null,
   "metadata": {},
   "outputs": [],
   "source": []
  },
  {
   "cell_type": "code",
   "execution_count": null,
   "metadata": {},
   "outputs": [],
   "source": []
  }
 ],
 "metadata": {
  "kernelspec": {
   "display_name": "Python 3",
   "language": "python",
   "name": "python3"
  },
  "language_info": {
   "codemirror_mode": {
    "name": "ipython",
    "version": 3
   },
   "file_extension": ".py",
   "mimetype": "text/x-python",
   "name": "python",
   "nbconvert_exporter": "python",
   "pygments_lexer": "ipython3",
   "version": "3.7.4"
  }
 },
 "nbformat": 4,
 "nbformat_minor": 4
}
